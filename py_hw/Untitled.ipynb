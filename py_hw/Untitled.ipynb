{
 "cells": [
  {
   "cell_type": "code",
   "execution_count": 8,
   "metadata": {
    "collapsed": false
   },
   "outputs": [
    {
     "name": "stdout",
     "output_type": "stream",
     "text": [
      "            1             0\n",
      "           11            11\n",
      "          111           222\n",
      "         1111          3333\n",
      "        11111         44444\n",
      "       111111        555555\n",
      "      1111111       6666666\n",
      "     11111111      77777777\n",
      "    111111111     888888888\n",
      "   1111111111    9999999999\n",
      "  11111111111  111111111110\n",
      " 111111111111 1222222222221\n"
     ]
    }
   ],
   "source": [
    "k = 0\n",
    "s = 0\n",
    "\n",
    "for i in range(12):\n",
    "    k = k + (10**i)\n",
    "    s = i*k\n",
    "    print(str(k).rjust(13),str(s).rjust(13))"
   ]
  },
  {
   "cell_type": "code",
   "execution_count": 21,
   "metadata": {
    "collapsed": false
   },
   "outputs": [
    {
     "name": "stdout",
     "output_type": "stream",
     "text": [
      "Please input a pressure in hPa and a temperature in K: 1 2123\n",
      "1 2123\n"
     ]
    }
   ],
   "source": [
    "P, T= input(\"Please input a pressure in hPa and a temperature in K: \").split()\n",
    "print(P,T)"
   ]
  },
  {
   "cell_type": "code",
   "execution_count": 25,
   "metadata": {
    "collapsed": false
   },
   "outputs": [
    {
     "data": {
      "text/plain": [
       "1"
      ]
     },
     "execution_count": 25,
     "metadata": {},
     "output_type": "execute_result"
    }
   ],
   "source": []
  },
  {
   "cell_type": "code",
   "execution_count": 23,
   "metadata": {
    "collapsed": false
   },
   "outputs": [
    {
     "data": {
      "text/plain": [
       "'2123'"
      ]
     },
     "execution_count": 23,
     "metadata": {},
     "output_type": "execute_result"
    }
   ],
   "source": []
  },
  {
   "cell_type": "code",
   "execution_count": null,
   "metadata": {
    "collapsed": true
   },
   "outputs": [],
   "source": []
  }
 ],
 "metadata": {
  "kernelspec": {
   "display_name": "Python 3",
   "language": "python",
   "name": "python3"
  },
  "language_info": {
   "codemirror_mode": {
    "name": "ipython",
    "version": 3
   },
   "file_extension": ".py",
   "mimetype": "text/x-python",
   "name": "python",
   "nbconvert_exporter": "python",
   "pygments_lexer": "ipython3",
   "version": "3.6.0"
  }
 },
 "nbformat": 4,
 "nbformat_minor": 2
}
